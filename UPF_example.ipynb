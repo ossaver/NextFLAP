{
  "nbformat": 4,
  "nbformat_minor": 0,
  "metadata": {
    "colab": {
      "provenance": [],
      "authorship_tag": "ABX9TyOKSzs5u3QF7EpgXpGiUmOm",
      "include_colab_link": true
    },
    "kernelspec": {
      "name": "python3",
      "display_name": "Python 3"
    },
    "language_info": {
      "name": "python"
    }
  },
  "cells": [
    {
      "cell_type": "markdown",
      "metadata": {
        "id": "view-in-github",
        "colab_type": "text"
      },
      "source": [
        "<a href=\"https://colab.research.google.com/github/ossaver/NextFLAP/blob/main/UPF_example.ipynb\" target=\"_parent\"><img src=\"https://colab.research.google.com/assets/colab-badge.svg\" alt=\"Open In Colab\"/></a>"
      ]
    },
    {
      "cell_type": "markdown",
      "source": [
        "## NextFLAP Example\n",
        "\n",
        "This python notebook shows the usage of NextFLAP within unified planning library.\n",
        "\n",
        "[![Open In GitHub](https://img.shields.io/badge/see-Github-579aca?logo=github)](https:///github.com/aiplan4eu/unified-planning/blob/master/docs/notebooks/01-basic-example.ipynb)\n",
        "[![Open In Colab](https://colab.research.google.com/assets/colab-badge.svg)](https://colab.research.google.com/github/aiplan4eu/unified-planning/blob/master/docs/notebooks/01-basic-example.ipynb)\n",
        "\n",
        "\n",
        "In particular we will go through the following steps:\n",
        "\n",
        " - create a numeric and temporal planning problem;\n",
        " - call the planner to solve the problem;\n"
      ],
      "metadata": {
        "id": "X6YPCzYLgAw7"
      }
    },
    {
      "cell_type": "code",
      "execution_count": null,
      "metadata": {
        "id": "4uTsVrxnfjWv"
      },
      "outputs": [],
      "source": []
    }
  ]
}